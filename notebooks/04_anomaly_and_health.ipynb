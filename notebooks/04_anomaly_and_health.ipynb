{
 "cells": [
  {
   "cell_type": "markdown",
   "metadata": {},
   "source": [
    "# Phase 4: Anomaly Detection & Health Impact\n",
    "\n",
    "In this notebook we detect pollution spikes using a rolling z‑score method and estimate health risk scores for each observation."
   ]
  },
  {
   "cell_type": "code",
   "execution_count": null,
   "metadata": {},
   "outputs": [],
   "source": [
    "import pandas as pd\n",
    "import numpy as np\n",
    "import matplotlib.pyplot as plt\n",
    "\n",
    "from src.modeling.detect_anomalies import main as detect_anomalies_main\n",
    "from src.modeling.health_risk import compute_risk_score\n",
    "\n",
    "# Load processed data\n",
    "df = pd.read_csv('../data/processed/merged_dataset.csv')\n",
    "# Detect anomalies\n",
    "rolling_mean = df['pm2_5'].rolling(window=24, min_periods=1, center=True).mean()\n",
    "rolling_std = df['pm2_5'].rolling(window=24, min_periods=1, center=True).std()\n",
    "z = (df['pm2_5'] - rolling_mean) / rolling_std\n",
    "df['is_anomaly'] = z.abs() > 3\n",
    "print('Number of anomalies:', df['is_anomaly'].sum())\n",
    "\n",
    "# Compute health risk\n",
    "scores = []\n",
    "cats = []\n",
    "for _, row in df.iterrows():\n",
        "score, cat = compute_risk_score(row)\n",
        "scores.append(score)\n",
        "cats.append(cat)\n",
    "df['health_risk_score'] = scores\n",
    "df['health_risk_category'] = cats\n",
    "df[['datetime', 'pm2_5', 'health_risk_score', 'health_risk_category']].head()"
   ]
  },
  {
   "cell_type": "markdown",
   "metadata": {},
   "source": [
    "The above output shows the first few rows with computed health risk scores and categories.  You can visualise the distribution of risk scores or correlate them with AQI categories."
   ]
  }
 ],
 "metadata": {
  "kernelspec": {
   "display_name": "Python 3",
   "language": "python",
   "name": "python3"
  },
  "language_info": {
   "name": "python",
   "version": "3.11"
  }
 },
 "nbformat": 4,
 "nbformat_minor": 5
}