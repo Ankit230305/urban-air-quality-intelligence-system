{
 "cells": [
  {
   "cell_type": "markdown",
   "metadata": {},
   "source": [
    "# Phase 1: Data Collection & Exploratory Data Analysis\n",
    "\n",
    "This notebook demonstrates how to load the raw data collected from the various APIs and perform basic exploratory analysis.  You can run it after executing `python src/data/collect_air_quality.py` to populate the `data/raw/` directory."
   ]
  },
  {
   "cell_type": "code",
   "execution_count": null,
   "metadata": {},
   "outputs": [],
   "source": [
    "import pandas as pd\n",
    "import matplotlib.pyplot as plt\n",
    "import seaborn as sns\n",
    "\n",
    "# Adjust these paths to point at your raw data files\n",
    "openaq_path = '../data/raw/Vellore_openaq_2024-08-17_2024-08-24.csv'\n",
    "weather_path = '../data/raw/Vellore_visualcrossing_2024-08-17_2024-08-24.csv'\n",
    "\n",
    "openaq_df = pd.read_csv(openaq_path)\n",
    "weather_df = pd.read_csv(weather_path)\n",
    "\n",
    "print('OpenAQ records:', len(openaq_df))\n",
    "print('Weather records:', len(weather_df))\n",
    "openaq_df.head()"
   ]
  },
  {
   "cell_type": "code",
   "execution_count": null,
   "metadata": {},
   "outputs": [],
   "source": [
    "# Pivot OpenAQ data to get pollutants as columns\n",
    "pivot = openaq_df.pivot_table(values='value', index='datetime', columns='parameter', aggfunc='mean')\n",
    "pivot.index = pd.to_datetime(pivot.index)\n",
    "\n",
    "# Plot PM2.5 time series\n",
    "plt.figure(figsize=(12, 4))\n",
    "pivot['pm25'].plot(title='PM2.5 concentration (OpenAQ)', ylabel='µg/m³')\n",
    "plt.show()"
   ]
  },
  {
   "cell_type": "markdown",
   "metadata": {},
   "source": [
    "You can extend this notebook by exploring other pollutants, overlaying weather variables and computing summary statistics."
   ]
  }
 ],
 "metadata": {
  "kernelspec": {
   "display_name": "Python 3",
   "language": "python",
   "name": "python3"
  },
  "language_info": {
   "name": "python",
   "version": "3.11"
  }
 },
 "nbformat": 4,
 "nbformat_minor": 5
}