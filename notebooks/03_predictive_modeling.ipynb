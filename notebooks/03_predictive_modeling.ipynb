{
 "cells": [
  {
   "cell_type": "markdown",
   "metadata": {},
   "source": [
    "# Phase 3: Predictive Modelling\n",
    "\n",
    "This notebook demonstrates how to train and evaluate models for predicting pollutant concentrations and AQI categories.  It uses the functions provided in `src/modeling/train_models.py` for reproducibility, but here we show an inline example for clarity."
   ]
  },
  {
   "cell_type": "code",
   "execution_count": null,
   "metadata": {},
   "outputs": [],
   "source": [
    "import pandas as pd\n",
    "from sklearn.model_selection import train_test_split\n",
    "from sklearn.ensemble import RandomForestRegressor\n",
    "from sklearn.metrics import mean_absolute_error\n",
    "\n",
    "df = pd.read_csv('../data/processed/merged_dataset.csv')\n",
    "df = df.dropna(subset=['pm2_5', 'temp', 'humidity', 'wind_speed'])\n",
    "X = df[['temp', 'humidity', 'wind_speed']].fillna(df[['temp', 'humidity', 'wind_speed']].median())\n",
    "y = df['pm2_5']\n",
    "X_train, X_test, y_train, y_test = train_test_split(X, y, test_size=0.2, random_state=0)\n",
    "model = RandomForestRegressor(n_estimators=100, random_state=0)\n",
    "model.fit(X_train, y_train)\n",
    "preds = model.predict(X_test)\n",
    "print('MAE:', mean_absolute_error(y_test, preds))"
   ]
  },
  {
   "cell_type": "markdown",
   "metadata": {},
   "source": [
    "You can extend this section by training classifiers for AQI categories and evaluating forecasting models using Prophet."
   ]
  }
 ],
 "metadata": {
  "kernelspec": {
   "display_name": "Python 3",
   "language": "python",
   "name": "python3"
  },
  "language_info": {
   "name": "python",
   "version": "3.11"
  }
 },
 "nbformat": 4,
 "nbformat_minor": 5
}