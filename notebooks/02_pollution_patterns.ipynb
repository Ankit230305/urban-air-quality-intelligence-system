{
 "cells": [
  {
   "cell_type": "markdown",
   "metadata": {},
   "source": [
    "# Phase 2: Pollution Pattern Discovery\n",
    "\n",
    "In this notebook we analyse pollution patterns over time and space.  We use clustering to group similar temporal profiles and look for associations between weather and pollution."
   ]
  },
  {
   "cell_type": "code",
   "execution_count": null,
   "metadata": {},
   "outputs": [],
   "source": [
    "import pandas as pd\n",
    "import matplotlib.pyplot as plt\n",
    "from sklearn.cluster import KMeans\n",
    "\n",
    "# Load the processed dataset produced by merge_and_feature_engineer\n",
    "df = pd.read_csv('../data/processed/merged_dataset.csv')\n",
    "df['datetime'] = pd.to_datetime(df['datetime'])\n",
    "\n",
    "# Extract pollutant features for clustering\n",
    "features = df[['pm2_5', 'pm10', 'no2', 'o3', 'co', 'so2']].fillna(method='ffill')\n",
    "# Run k-means clustering with 3 clusters\n",
    "kmeans = KMeans(n_clusters=3, random_state=0)\n",
    "df['cluster'] = kmeans.fit_predict(features)\n",
    "df.groupby('cluster')[['pm2_5', 'pm10', 'no2']].mean()"
   ]
  },
  {
   "cell_type": "markdown",
   "metadata": {},
   "source": [
    "Interpret the clusters to understand which areas or times correspond to high pollution and whether they coincide with particular weather patterns."
   ]
  }
 ],
 "metadata": {
  "kernelspec": {
   "display_name": "Python 3",
   "language": "python",
   "name": "python3"
  },
  "language_info": {
   "name": "python",
   "version": "3.11"
  }
 },
 "nbformat": 4,
 "nbformat_minor": 5
}